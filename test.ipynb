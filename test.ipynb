{
 "cells": [
  {
   "cell_type": "code",
   "execution_count": 8,
   "metadata": {
    "colab": {},
    "colab_type": "code",
    "executionInfo": {
     "elapsed": 2604,
     "status": "ok",
     "timestamp": 1600209018607,
     "user": {
      "displayName": "Susik Yoon",
      "photoUrl": "https://lh3.googleusercontent.com/a-/AOh14GgpKqFVujIaP94eBOWFIbcf-rPRf3xvYmQc2BH4rOw=s64",
      "userId": "02228316426336378080"
     },
     "user_tz": -540
    },
    "id": "LZqO4jt23CCB"
   },
   "outputs": [],
   "source": [
    "import random\n",
    "from ARCUS import *"
   ]
  },
  {
   "cell_type": "code",
   "execution_count": 22,
   "metadata": {},
   "outputs": [],
   "source": [
    "def load_dataset(dataset_name):\n",
    "    dataset = pd.read_csv(\"datasets/\"+dataset_name+\".csv\", dtype=np.float64, header=None)\n",
    "    dataset_label = dataset.pop(dataset.columns[-1])\n",
    "    return tf.data.Dataset.from_tensor_slices((dataset.values, dataset_label.values))\n",
    "\n",
    "# Problem-setting related hyper parameters\n",
    "batch = 512\n",
    "min_batch = 32\n",
    "init_epoch = 5\n",
    "intm_epoch = 1\n",
    "\n",
    "# Algorithm related hyper parameters\n",
    "model_type = \"RAPP\" # \"RAPP, \"RSRAE\", \"DAGMM\"\n",
    "inf_type = \"ADP\" # \"INC\" - drift-unaware, \"ADP\"- drift-aware\n",
    "dataset_name = \"MNIST_AbrRec\" # \"MNIST_AbrRec\", \"MNIST_GrdRec\", \"F_MNIST_AbrRec\",  \"F_MNIST_GrdRec\", \"GAS\", \"RIALTO\", 'INSECTS_Abr','INSECTS_Incr', 'INSECTS_IncrGrd','INSECTS_IncrRecr'\n",
    "hidden_dim = 24 # The hidden dim size of AE. Manually chosen or the number of pricipal component explaining at least 70% of variance: \"MNIST_AbrRec\": 24,  \"MNIST_GrdRec\": 25, \"F_MNIST_AbrRec\": 9,  \"F_MNIST_GrdRec\": 15, \"GAS\": 2, \"RIALTO\": 2, 'INSECTS_Abr': 6,'INSECTS_Incr': 7, 'INSECTS_IncrGrd': 8,'INSECTS_IncrRecr': 7\n",
    "layer_num = 3 #Num of AE layers\n",
    "RSRAE_hidden_layer_size = [32, 64, 128] # Suggested by the RSRAE author. The one or two layers of them may be used according to data sets.\n",
    "learning_rate = 1e-4\n",
    "reliability_thred = 0.95 #For pool adpatation\n",
    "similarity_thred = 0.8 #For model merging"
   ]
  },
  {
   "cell_type": "code",
   "execution_count": 23,
   "metadata": {},
   "outputs": [
    {
     "name": "stdout",
     "output_type": "stream",
     "text": [
      "Data set: MNIST_AbrRec\n",
      "Model type:  RAPP\n",
      "AUC: 0.915\n"
     ]
    }
   ],
   "source": [
    "dataset = load_dataset(dataset_name)\n",
    "rand_seed = random.randint(0,1000)\n",
    "ARCUS_instance = ARCUS()\n",
    "returned, auc_hist, anomaly_scores = ARCUS_instance.simulator(dataset, model_type, inf_type, batch, min_batch, learning_rate, layer_num, hidden_dim, init_epoch, intm_epoch, reliability_thred, similarity_thred, rand_seed, RSRAE_hidden_layer_size)\n",
    "\n",
    "if(returned):\n",
    "    print(\"Data set:\",dataset_name)\n",
    "    print(\"Model type: \", model_type)\n",
    "    print(\"AUC:\", np.round(np.mean(auc_hist),3))\n",
    "else:\n",
    "    print(\"Error occurred\")"
   ]
  }
 ],
 "metadata": {
  "accelerator": "GPU",
  "colab": {
   "authorship_tag": "ABX9TyMDj5bNxNY9wp9IAYAAlHhx",
   "mount_file_id": "126WGy6C6LMI_gVg14zNPE1n4OWqECbHM",
   "name": "RAPP.ipynb",
   "provenance": []
  },
  "kernelspec": {
   "display_name": "Python 3",
   "language": "python",
   "name": "python3"
  },
  "language_info": {
   "codemirror_mode": {
    "name": "ipython",
    "version": 3
   },
   "file_extension": ".py",
   "mimetype": "text/x-python",
   "name": "python",
   "nbconvert_exporter": "python",
   "pygments_lexer": "ipython3",
   "version": "3.8.8"
  }
 },
 "nbformat": 4,
 "nbformat_minor": 4
}
